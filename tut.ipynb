{
 "cells": [
  {
   "cell_type": "code",
   "execution_count": null,
   "id": "755a8b09",
   "metadata": {},
   "outputs": [],
   "source": [
    "!git clone https://github.com/samay-patel-2110/MeshCNN_3DVSS/tree/main"
   ]
  },
  {
   "cell_type": "code",
   "execution_count": null,
   "id": "cd001bd9",
   "metadata": {},
   "outputs": [],
   "source": [
    "!pip install -r requirements.txt"
   ]
  },
  {
   "cell_type": "markdown",
   "id": "2daaffff",
   "metadata": {},
   "source": [
    "## Get Shrec Dataset"
   ]
  },
  {
   "cell_type": "code",
   "execution_count": null,
   "id": "edb84125",
   "metadata": {},
   "outputs": [],
   "source": [
    "# get data\n",
    "!mkdir -p $DATADIR && cd $DATADIR\n",
    "!wget https://www.dropbox.com/s/w16st84r6wc57u7/shrec_16.tar.gz\n",
    "!tar -xzvf shrec_16.tar.gz && rm shrec_16.tar.gz\n",
    "!echo \"downloaded the data and putting it in: \" $DATADIR\n",
    "\n",
    "# ## 2. Dataset Structure\n",
    "# The dataset should be organized as follows:\n",
    "# ```\n",
    "# datasets/\n",
    "# └── shrec_16/\n",
    "#     ├── laptop/\n",
    "#     │   ├── train/\n",
    "#     │   ├── test/\n",
    "#     │   └── val/\n",
    "#     └── ...\n",
    "# ```"
   ]
  },
  {
   "cell_type": "markdown",
   "id": "01410732",
   "metadata": {},
   "source": [
    "## Features extraction"
   ]
  },
  {
   "cell_type": "code",
   "execution_count": 2,
   "id": "63c64fa0",
   "metadata": {},
   "outputs": [],
   "source": [
    "import trimesh\n",
    "import numpy as np\n",
    "from models.layers.mesh_prepare import from_scratch"
   ]
  },
  {
   "cell_type": "code",
   "execution_count": 3,
   "id": "aafcc189",
   "metadata": {},
   "outputs": [],
   "source": [
    "x = from_scratch(\"./datasets/shrec_16/laptop/train/T17.obj\",[0])"
   ]
  },
  {
   "cell_type": "code",
   "execution_count": 4,
   "id": "ee0716aa",
   "metadata": {},
   "outputs": [],
   "source": [
    "def build_gemm_explain(mesh, faces, face_areas):\n",
    "    \"\"\"\n",
    "    gemm_edges: array (#E x 4) of the 4 one-ring neighbors for each edge\n",
    "    sides: array (#E x 4) indices (values of: 0,1,2,3) indicating where an edge is in the gemm_edge entry of the 4 neighboring edges\n",
    "    for example edge i -> gemm_edges[gemm_edges[i], sides[i]] == [i, i, i, i]\n",
    "    \"\"\"\n",
    "    print(\"Initializing data structures...\")\n",
    "    mesh.ve = [[] for _ in mesh.vs]  # Vertex to edge mapping\n",
    "    edge_nb = []  # Edge neighbors\n",
    "    sides = []    # Side indices\n",
    "    edge2key = dict()  # Edge to index mapping\n",
    "    edges = []    # List of edges\n",
    "    edges_count = 0\n",
    "    nb_count = []  # Neighbor count per edge\n",
    "\n",
    "    print(f\"Processing {len(faces)} faces...\")\n",
    "    for face_id, face in enumerate(faces):\n",
    "        print(f\"\\nProcessing face {face_id}: {face}\")\n",
    "        faces_edges = []\n",
    "        \n",
    "        # Get edges for current face\n",
    "        for i in range(3):\n",
    "            cur_edge = (face[i], face[(i + 1) % 3])\n",
    "            faces_edges.append(cur_edge)\n",
    "        print(f\"Face edges before sorting: {faces_edges}\")\n",
    "\n",
    "        # Process each edge\n",
    "        for idx, edge in enumerate(faces_edges):\n",
    "            edge = tuple(sorted(list(edge)))  # Sort vertices to ensure consistent edge representation\n",
    "            faces_edges[idx] = edge\n",
    "            print(f\"Processing edge {edge}\")\n",
    "            \n",
    "            if edge not in edge2key:\n",
    "                print(f\"New edge found: {edge}\")\n",
    "                edge2key[edge] = edges_count\n",
    "                edges.append(list(edge))\n",
    "                edge_nb.append([-1, -1, -1, -1])  # Initialize 4 neighbors as -1\n",
    "                sides.append([-1, -1, -1, -1])    # Initialize 4 sides as -1\n",
    "                mesh.ve[edge[0]].append(edges_count)  # Add edge to vertex 0's edge list\n",
    "                mesh.ve[edge[1]].append(edges_count)  # Add edge to vertex 1's edge list\n",
    "                mesh.edge_areas.append(0)\n",
    "                nb_count.append(0)\n",
    "                edges_count += 1\n",
    "            \n",
    "            # Update edge areas\n",
    "            mesh.edge_areas[edge2key[edge]] += face_areas[face_id] / 3\n",
    "            print(f\"Updated edge areas for edge {edge}: {mesh.edge_areas[edge2key[edge]]}\")\n",
    "\n",
    "        # Set up edge neighbors\n",
    "        for idx, edge in enumerate(faces_edges):\n",
    "            edge_key = edge2key[edge]\n",
    "            print(f\"\\nSetting up neighbors for edge {edge} (key: {edge_key})\")\n",
    "            \n",
    "            # Connect to next edge in face\n",
    "            next_edge = faces_edges[(idx + 1) % 3]\n",
    "            edge_nb[edge_key][nb_count[edge_key]] = edge2key[next_edge]\n",
    "            print(f\"Connected to next edge {next_edge} (key: {edge2key[next_edge]})\")\n",
    "            \n",
    "            # Connect to previous edge in face\n",
    "            prev_edge = faces_edges[(idx + 2) % 3]\n",
    "            edge_nb[edge_key][nb_count[edge_key] + 1] = edge2key[prev_edge]\n",
    "            print(f\"Connected to previous edge {prev_edge} (key: {edge2key[prev_edge]})\")\n",
    "            \n",
    "            nb_count[edge_key] += 2\n",
    "\n",
    "        # Set up side indices\n",
    "        for idx, edge in enumerate(faces_edges):\n",
    "            edge_key = edge2key[edge]\n",
    "            print(f\"\\nSetting up sides for edge {edge} (key: {edge_key})\")\n",
    "            \n",
    "            # Calculate side indices for connections\n",
    "            sides[edge_key][nb_count[edge_key] - 2] = nb_count[edge2key[faces_edges[(idx + 1) % 3]]] - 1\n",
    "            sides[edge_key][nb_count[edge_key] - 1] = nb_count[edge2key[faces_edges[(idx + 2) % 3]]] - 2\n",
    "            print(f\"Updated sides: {sides[edge_key]}\")\n",
    "\n",
    "    print(\"\\nFinalizing mesh data...\")\n",
    "    mesh.edges = np.array(edges, dtype=np.int32)\n",
    "    mesh.gemm_edges = np.array(edge_nb, dtype=np.int64)\n",
    "    mesh.sides = np.array(sides, dtype=np.int64)\n",
    "    mesh.edges_count = edges_count\n",
    "    mesh.edge_areas = np.array(mesh.edge_areas, dtype=np.float32) / np.sum(face_areas)\n",
    "    \n",
    "    print(f\"Final statistics:\")\n",
    "    print(f\"Total edges: {edges_count}\")\n",
    "    print(f\"Edge areas shape: {mesh.edge_areas.shape}\")\n",
    "    print(f\"Gemm edges shape: {mesh.gemm_edges.shape}\")\n",
    "    print(f\"Sides shape: {mesh.sides.shape}\")"
   ]
  },
  {
   "cell_type": "code",
   "execution_count": null,
   "id": "6982e89b",
   "metadata": {},
   "outputs": [],
   "source": [
    "x.sides"
   ]
  },
  {
   "cell_type": "code",
   "execution_count": null,
   "id": "687b90b4",
   "metadata": {},
   "outputs": [],
   "source": [
    "x.edges"
   ]
  },
  {
   "cell_type": "code",
   "execution_count": null,
   "id": "ec2e81f7",
   "metadata": {},
   "outputs": [],
   "source": [
    "x.gemm_edges"
   ]
  },
  {
   "cell_type": "markdown",
   "id": "93cbaf62",
   "metadata": {},
   "source": [
    "## Classification"
   ]
  },
  {
   "cell_type": "code",
   "execution_count": null,
   "id": "1de0a8a3",
   "metadata": {},
   "outputs": [],
   "source": [
    "#!/usr/bin/env bash\n",
    "\n",
    "CHECKPOINT='checkpoints/shrec16'\n",
    "\n",
    "!mkdir -p $CHECKPOINT\n",
    "!wget https://www.dropbox.com/s/wqq1qxj4fjbpfas/shrec16_wts.tar.gz\n",
    "!tar -xzvf shrec16_wts.tar.gz && rm shrec16_wts.tar.gz\n",
    "!mv latest_net.pth $CHECKPOINT\n",
    "!echo \"downloaded pretrained weights to\" $CHECKPOINT"
   ]
  },
  {
   "cell_type": "code",
   "execution_count": null,
   "id": "da1750db",
   "metadata": {},
   "outputs": [],
   "source": [
    "## run the test and export collapses\n",
    "\n",
    "# Processing batch of 16 meshes\n",
    "# Forward pass -> compute correct classification -> outputs confsion matrix\n",
    "\n",
    "!python test.py \\\n",
    "--dataroot datasets/shrec_16 \\\n",
    "--name shrec16 \\\n",
    "--ncf 64 128 256 256 \\\n",
    "--pool_res 600 450 300 180 \\\n",
    "--norm group \\\n",
    "--resblocks 1 \\\n",
    "--export_folder meshes \\"
   ]
  },
  {
   "cell_type": "markdown",
   "id": "6d2f1693",
   "metadata": {},
   "source": [
    "## Visualize Edge Collapse"
   ]
  },
  {
   "cell_type": "code",
   "execution_count": null,
   "id": "37a7d98f",
   "metadata": {},
   "outputs": [],
   "source": [
    "import trimesh\n",
    "\n",
    "item = 1\n",
    "\n",
    "# Load and display a mesh using trimesh\n",
    "mesh = trimesh.load(f'checkpoints/shrec16/meshes/T{item}_0.obj')\n",
    "\n",
    "# Create a scene and add the mesh\n",
    "scene = trimesh.Scene(mesh)\n",
    "\n",
    "# Show the mesh with triangles visible\n",
    "scene.show(flags={'cull': False, 'wireframe': True})\n"
   ]
  },
  {
   "cell_type": "code",
   "execution_count": null,
   "id": "713a57db",
   "metadata": {},
   "outputs": [],
   "source": [
    "import matplotlib.pyplot as plt\n",
    "from mpl_toolkits.mplot3d import Axes3D\n",
    "import numpy as np\n",
    "\n",
    "# Create a figure with 4 subplots side by side\n",
    "fig = plt.figure(figsize=(20, 5))\n",
    "\n",
    "# Load all 4 meshes\n",
    "meshes = []\n",
    "for i in range(4):\n",
    "    if i == 1 :\n",
    "        continue\n",
    "    mesh = trimesh.load(f'checkpoints/shrec16/meshes/T{item}_{i}.obj')\n",
    "    meshes.append(mesh)\n",
    "\n",
    "# Plot each mesh in its own subplot\n",
    "for i, mesh in enumerate(meshes):\n",
    "    ax = fig.add_subplot(1, 3, i+1, projection='3d')\n",
    "    \n",
    "    # Get vertices and faces\n",
    "    vertices = np.array(mesh.vertices)\n",
    "    faces = np.array(mesh.faces)\n",
    "    \n",
    "    # Plot the mesh with wireframe\n",
    "    for face in faces:\n",
    "        # Get the vertices for this face\n",
    "        face_vertices = vertices[face]\n",
    "        # Plot the edges of the face\n",
    "        ax.plot([face_vertices[0,0], face_vertices[1,0]], \n",
    "                [face_vertices[0,1], face_vertices[1,1]], \n",
    "                [face_vertices[0,2], face_vertices[1,2]], 'k-', linewidth=0.5)\n",
    "        ax.plot([face_vertices[1,0], face_vertices[2,0]], \n",
    "                [face_vertices[1,1], face_vertices[2,1]], \n",
    "                [face_vertices[1,2], face_vertices[2,2]], 'k-', linewidth=0.5)\n",
    "        ax.plot([face_vertices[2,0], face_vertices[0,0]], \n",
    "                [face_vertices[2,1], face_vertices[0,1]], \n",
    "                [face_vertices[2,2], face_vertices[0,2]], 'k-', linewidth=0.5)\n",
    "    \n",
    "    # Set equal aspect ratio\n",
    "    ax.set_box_aspect([1,1,1])\n",
    "    \n",
    "    # Remove axis labels and ticks\n",
    "    ax.set_axis_off()\n",
    "    \n",
    "    # Set title\n",
    "    ax.set_title(f'Mesh {i}')\n",
    "\n",
    "plt.tight_layout()\n",
    "plt.show()\n"
   ]
  },
  {
   "cell_type": "code",
   "execution_count": null,
   "id": "8b9a10af",
   "metadata": {},
   "outputs": [],
   "source": []
  }
 ],
 "metadata": {
  "kernelspec": {
   "display_name": "env",
   "language": "python",
   "name": "python3"
  },
  "language_info": {
   "codemirror_mode": {
    "name": "ipython",
    "version": 3
   },
   "file_extension": ".py",
   "mimetype": "text/x-python",
   "name": "python",
   "nbconvert_exporter": "python",
   "pygments_lexer": "ipython3",
   "version": "3.9.18"
  }
 },
 "nbformat": 4,
 "nbformat_minor": 5
}
